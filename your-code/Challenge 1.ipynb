{
 "cells": [
  {
   "cell_type": "markdown",
   "metadata": {},
   "source": [
    "# Challenge 1\n",
    "\n",
    "This is a dumb calculator that can add and subtract whole numbers from zero to five.\n",
    "When you run the code, you are prompted to enter two numbers (in the form of English\n",
    "word instead of number) and the operator sign (also in the form of English word).\n",
    "The code will perform the calculation and give the result if your input is what it\n",
    "expects.\n",
    "\n",
    "The code is very long and messy. Refactor it according to what you have learned about\n",
    "code simplicity and efficiency."
   ]
  },
  {
   "cell_type": "code",
   "execution_count": 2,
   "metadata": {},
   "outputs": [
    {
     "name": "stdout",
     "output_type": "stream",
     "text": [
      "Welcome to this calculator!\n",
      "It can add and subtract whole numbers from zero to five\n",
      "Please choose your first number (zero to five): one\n",
      "What do you want to do? plus or minus: plus\n",
      "Please choose your second number (zero to five): five\n",
      "one plus five is six\n",
      "Thanks for using this calculator, goodbye :)\n"
     ]
    }
   ],
   "source": [
    "print('Welcome to this calculator!')\n",
    "print('It can add and subtract whole numbers from zero to five')\n",
    "\n",
    "\n",
    "numbers = ['zero', 'one', 'two', 'three', 'four', 'five']\n",
    "operators = ['plus', 'minus']\n",
    "\n",
    "while True:\n",
    "    a = input('Please choose your first number (zero to five): ')\n",
    "    if a in numbers:\n",
    "        break\n",
    "while True:\n",
    "    b = input('What do you want to do? plus or minus: ')\n",
    "    if b in operators:\n",
    "        break\n",
    "        \n",
    "while True:\n",
    "    c = input('Please choose your second number (zero to five): ')\n",
    "    if a in numbers:\n",
    "        break\n",
    "\n",
    "nums = {\n",
    "    'negative five':-5,\n",
    "    'negative four':-4,\n",
    "    'negative three':-3,\n",
    "    'negative two':-2,\n",
    "    'negative one':-1,\n",
    "    'negative zero':0,\n",
    "    'ten':10,\n",
    "    'nine':9,\n",
    "    'eight':8,\n",
    "    'seven':7,\n",
    "    'six':6,\n",
    "    'five':5,\n",
    "    'four':4,\n",
    "    'three':3,\n",
    "    'two':2,\n",
    "    'one':1,\n",
    "}\n",
    "\n",
    "\n",
    "if b == 'plus':\n",
    "    suma = nums[a] + nums[c]\n",
    "elif b == 'minus':\n",
    "    suma = nums[a] - nums[c]\n",
    "    \n",
    "result = list(nums.keys())[list(nums.values()).index(suma)]\n",
    "print(f\"{a} {b} {c} is {result}\")\n",
    "\n",
    "print(\"Thanks for using this calculator, goodbye :)\")"
   ]
  },
  {
   "cell_type": "code",
   "execution_count": null,
   "metadata": {},
   "outputs": [],
   "source": []
  }
 ],
 "metadata": {
  "kernelspec": {
   "display_name": "Python 3",
   "language": "python",
   "name": "python3"
  }
 },
 "nbformat": 4,
 "nbformat_minor": 2
}
